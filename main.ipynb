{
 "cells": [
  {
   "attachments": {},
   "cell_type": "markdown",
   "metadata": {},
   "source": [
    "# BIOE245 - HW 3\n",
    "\n",
    "In this assignment, we will use the LGG MRI Segmentation dataset from Kaggle to train a machine learning model.\n",
    "\n",
    "## Task A\n",
    "\n",
    "### Data Preparation\n",
    "\n",
    "First, let's download the dataset. You can either use the [kaggle link](https://www.kaggle.com/datasets/mateuszbuda/lgg-mri-segmentation) or get an [API key](https://github.com/Kaggle/kaggle-api) and run the `download_kaggle_data.py` script:"
   ]
  },
  {
   "cell_type": "code",
   "execution_count": null,
   "metadata": {},
   "outputs": [],
   "source": [
    "# !python download_kaggle_data.py"
   ]
  },
  {
   "cell_type": "code",
   "execution_count": null,
   "metadata": {},
   "outputs": [],
   "source": [
    "from dataloader import dataset\n",
    "from torch.utils.data import DataLoader\n",
    "\n",
    "# TODO: Partition dataset\n",
    "train_samples = \n",
    "valid_samples = \n",
    "\n",
    "# Create the dataloaders\n",
    "train_loader = DataLoader(train_samples, batch_size=4, shuffle=True)\n",
    "val_loader = DataLoader(valid_samples, batch_size=4, shuffle=True)"
   ]
  },
  {
   "attachments": {},
   "cell_type": "markdown",
   "metadata": {},
   "source": [
    "Let’s visualize some of the images from the dataset:"
   ]
  },
  {
   "cell_type": "code",
   "execution_count": null,
   "metadata": {},
   "outputs": [],
   "source": [
    "import matplotlib.pyplot as plt\n",
    "#use plt.imshow"
   ]
  },
  {
   "attachments": {},
   "cell_type": "markdown",
   "metadata": {},
   "source": [
    "### Model Training\n",
    "Now that we have prepared the data, let’s train a machine learning model. We will use a pre-trained model and fine-tune it on our dataset.\n",
    "First, let’s define our model:"
   ]
  },
  {
   "cell_type": "code",
   "execution_count": null,
   "metadata": {},
   "outputs": [],
   "source": [
    "import torch\n",
    "\n",
    "#Define Optimizer\n",
    "optimizer =\n",
    "\n",
    "model = torch.hub.load('mateuszbuda/brain-segmentation-pytorch', 'unet',\n",
    "    in_channels=3, out_channels=1, init_features=32, pretrained=True)\n",
    "\n",
    "\n",
    "epochs =\n",
    "\n",
    "for epoch in range(num_epochs):\n",
    "    # TODO: Zero out gradients\n",
    "    \n",
    "    # TODO: pass input through model\n",
    "    \n",
    "    # TODO: calculate loss and save value\n",
    "    \n",
    "    # TODO: backprop"
   ]
  },
  {
   "attachments": {},
   "cell_type": "markdown",
   "metadata": {},
   "source": [
    "Plot the train and validation curves"
   ]
  },
  {
   "cell_type": "code",
   "execution_count": null,
   "metadata": {},
   "outputs": [],
   "source": [
    "# TODO: Plot the training curves\n",
    "# plt.plot"
   ]
  },
  {
   "attachments": {},
   "cell_type": "markdown",
   "metadata": {},
   "source": [
    "## Task B: Use more data"
   ]
  },
  {
   "attachments": {},
   "cell_type": "markdown",
   "metadata": {},
   "source": []
  }
 ],
 "metadata": {
  "language_info": {
   "name": "python"
  },
  "orig_nbformat": 4
 },
 "nbformat": 4,
 "nbformat_minor": 2
}
